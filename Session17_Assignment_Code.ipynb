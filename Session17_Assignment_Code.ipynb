{
 "cells": [
  {
   "cell_type": "code",
   "execution_count": 44,
   "metadata": {},
   "outputs": [
    {
     "name": "stdout",
     "output_type": "stream",
     "text": [
      "Hypothesis are\n",
      "Raw cornstarch diet does have an affect - Null Hypothesis :Ho\n",
      "Raw cornstarch diet does not have any affect - Alternative Hypothesis :H1\n",
      "Let us test the Null Hupothesis with assumed significance level is 5% means 0.05 \n",
      "Calculate the Random chances (Z Score)\n",
      "Formula to calculate Z Score : (Sample Mean-Population mean)/(std deviation/root of sample) \n",
      "Z Values or Random Probality  is  [3.2]\n",
      "Pvalues or Zscore of 3.2 is 0.9993\n",
      "Probablitis of having glucose less than 108 is 0.9993\n",
      "Probablitis of having glucose equal to 108 or more than 108  is  0.0007000000000000339\n",
      "Signficace values is 0.05 is far far more than  0.0007000000000000339\n",
      "So Raw cornstarch diet does not have an affect and so Null Hypothesis can be Rejected\n"
     ]
    }
   ],
   "source": [
    "# Session 17 - Statistics-- 3by Sreedhara Jagatagar  Sreenivasa\n",
    "\n",
    "from scipy.stats import binom\n",
    "import scipy.stats as stat\n",
    "import math as mth\n",
    "import numpy as np\n",
    "\n",
    "#Problem Statement 1:\n",
    "#Blood glucose levels for obese patients have a mean of 100 with a standard deviation of\n",
    "#15. A researcher thinks that a diet high in raw cornstarch will have a positive effect on\n",
    "#Blood glucose levels. A sample of 36 patients who have tried the raw cornstarch diet\n",
    "#have a mean glucose level of 108. Test the hypothesis that the raw cornstarch had an\n",
    "#affect or not.\n",
    "\n",
    "print('Hypothesis are')\n",
    "print('Raw cornstarch diet does have an affect - Null Hypothesis :Ho')\n",
    "print('Raw cornstarch diet does not have any affect - Alternative Hypothesis :H1')\n",
    "print('Let us test the Null Hupothesis with assumed significance level is 5% means 0.05 ')\n",
    "\n",
    "Population_mean_sugger_level=100\n",
    "sample_mean_glucose_level=108\n",
    "standard_deviation=15\n",
    "no_of_sample=36\n",
    "\n",
    "print('Calculate the Random chances (Z Score)')\n",
    "print('Formula to calculate Z Score : (Sample Mean-Population mean)/(std deviation/root of sample) ')\n",
    "zvalue=np.array([(sample_mean_glucose_level-Population_mean_sugger_level)/(standard_deviation/mth.sqrt(no_of_sample))])\n",
    "\n",
    "print('Z Values or Random Probality  is ',zvalue)  \n",
    "\n",
    "print('Pvalues or Zscore of 3.2 is 0.9993')\n",
    "print('Probablitis of having glucose less than 108 is 0.9993') \n",
    "print('Probablitis of having glucose equal to 108 or more than 108  is ',1-0.9993) \n",
    "print('Signficace values is 0.05 is far far more than ',1-0.9993)\n",
    "print('So Raw cornstarch diet does not have an affect and so Null Hypothesis can be Rejected')"
   ]
  },
  {
   "cell_type": "code",
   "execution_count": 45,
   "metadata": {},
   "outputs": [
    {
     "name": "stdout",
     "output_type": "stream",
     "text": [
      "First State and Second State supportors between Repupblicans and Democrats are:  0.52 0.48 0.47 0.53\n",
      "Mean Differences : -0.05\n",
      "Standard Deviation : 0.0706\n",
      "ZScore  -0.7082\n",
      "Using Z table, we find  #P(z <=0.70802) = 0.24\n",
      "Therefore, the probability that the survey will show a greater percentage of Republican voters in the \n",
      " second state than in the first state is 24%\n"
     ]
    }
   ],
   "source": [
    "# Session 17 - Statistics-- 3 by Sreedhara Jagatagar  Sreenivasa\n",
    "\n",
    "#Problem Statement 2:\n",
    "#In one state, 52% of the voters are Republicans, and 48% are Democrats. In a second\n",
    "#State, 47% of the voters are Republicans, and 53% are Democrats. Suppose a simple\n",
    "#Random sample of 100 voters are surveyed from each state.\n",
    "#What is the probability that the survey will show a greater percentage of Republican\n",
    "#Voters in the second state than in the first state?    \n",
    "\n",
    "#P1 = the proportion of Republican voters in the first state, \n",
    "#P2 = the proportion of Republican voters in the second state, \n",
    "\n",
    "P1=52/100\n",
    "P1_D = 48/100 \n",
    "P2 = 47/100 \n",
    "P2_D= 53/100 \n",
    "\n",
    "print('First State and Second State supportors between Repupblicans and Democrats are: ',P1,P1_D,P2,P2_D)\n",
    "\n",
    "#Find the mean of the difference in sample proportions: \n",
    "mean_diff=round(P2-P1,2)\n",
    "\n",
    "print('Mean Differences :',mean_diff)\n",
    "\n",
    "#Find the standard deviation of the difference:\n",
    "std_div = round(mth.sqrt((((P1)*(P1_D)) / 100) + (((P2)*(P2_D)) / 100)),4)\n",
    "\n",
    "print('Standard Deviation :',std_div)\n",
    "\n",
    "zscore=round(((mean_diff)/std_div),4)\n",
    "\n",
    "print('ZScore ',zscore)\n",
    "\n",
    "#the probability of a z-score being -0.7082 or less is 0.24\n",
    "print('Using Z table, we find  #P(z <=0.70802) = 0.24')\n",
    "\n",
    "print('Therefore, the probability that the survey will show a greater percentage of Republican voters in the \\n second state than in the first state is 24%')"
   ]
  },
  {
   "cell_type": "code",
   "execution_count": 46,
   "metadata": {},
   "outputs": [
    {
     "name": "stdout",
     "output_type": "stream",
     "text": [
      "Mean SAT Score is  1026\n",
      "Standard Deviation is  209\n",
      "SAT Scored by a student is  1100\n",
      "Calcuate the Z Score by using (Scored - Mean Score)/Standard Deviation \n",
      "Zscore is  0.35406698564593303\n",
      "ZSCORE Perfomrance from Z table is  0.6368\n",
      "His Performance is above the mean compare to average test taker is  63.68000000000001\n"
     ]
    }
   ],
   "source": [
    "# Session 17 - Statistics-- 3 by Sreedhara Jagatagar  Sreenivasa\n",
    "\n",
    "#Problem Statement 3:\n",
    "#You take the SAT and score 1100. The mean score for the SAT is 1026 and the standard\n",
    "#deviation is 209. How well did you score on the test compared to the average test taker?\n",
    "\n",
    "print('Mean SAT Score is ',1026)\n",
    "print('Standard Deviation is ',209)\n",
    "print('SAT Scored by a student is ', 1100)\n",
    "print('Calcuate the Z Score by using (Scored - Mean Score)/Standard Deviation ')\n",
    "#Calculate Z score\n",
    "Zscore=(1100-1026)/209\n",
    "print('Zscore is ', Zscore)\n",
    "print('ZSCORE Perfomrance from Z table is ',0.6368)\n",
    "Performrmance =0.6368 \n",
    "print('His Performance is above the mean compare to average test taker is ',Performrmance*100)"
   ]
  }
 ],
 "metadata": {
  "kernelspec": {
   "display_name": "Python 3",
   "language": "python",
   "name": "python3"
  },
  "language_info": {
   "codemirror_mode": {
    "name": "ipython",
    "version": 3
   },
   "file_extension": ".py",
   "mimetype": "text/x-python",
   "name": "python",
   "nbconvert_exporter": "python",
   "pygments_lexer": "ipython3",
   "version": "3.6.6"
  }
 },
 "nbformat": 4,
 "nbformat_minor": 2
}
